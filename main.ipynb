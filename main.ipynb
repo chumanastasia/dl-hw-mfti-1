{
 "cells": [
  {
   "metadata": {},
   "cell_type": "markdown",
   "source": "Импорт библиотек",
   "id": "6d12c66b174f34f9"
  },
  {
   "metadata": {
    "ExecuteTime": {
     "end_time": "2024-05-12T22:14:09.759050Z",
     "start_time": "2024-05-12T22:14:02.143837Z"
    }
   },
   "cell_type": "code",
   "source": [
    "import pandas as pd\n",
    "import numpy as np\n",
    "import tensorflow.keras as keras\n",
    "from keras import layers\n",
    "from keras import callbacks\n",
    "from loguru import logger\n",
    "from sklearn.model_selection import train_test_split"
   ],
   "id": "3a909534cba8c539",
   "outputs": [],
   "execution_count": 1
  },
  {
   "metadata": {
    "ExecuteTime": {
     "end_time": "2024-05-12T22:14:15.163225Z",
     "start_time": "2024-05-12T22:14:13.312632Z"
    }
   },
   "cell_type": "code",
   "source": [
    "TEST_SAMPLE_FILE_PATH = 'data/fashion-mnist_test.csv'\n",
    "TRAIN_SAMPLE_FILE_PATH = 'data/fashion-mnist_train.csv'\n",
    "\n",
    "test_sample_df = pd.read_csv(TEST_SAMPLE_FILE_PATH)\n",
    "train_sample_df = pd.read_csv(TRAIN_SAMPLE_FILE_PATH)"
   ],
   "id": "f15fd618ff9c436",
   "outputs": [],
   "execution_count": 2
  },
  {
   "metadata": {},
   "cell_type": "markdown",
   "source": "Подготовка данных",
   "id": "a70524fda196bb5a"
  },
  {
   "metadata": {
    "ExecuteTime": {
     "end_time": "2024-05-12T22:14:18.386875Z",
     "start_time": "2024-05-12T22:14:17.943586Z"
    }
   },
   "cell_type": "code",
   "source": [
    "train_data = np.array(train_sample_df, dtype='float32')\n",
    "test_data = np.array(test_sample_df, dtype='float32')\n",
    "\n",
    "x_train = train_data[:, 1:] / 255\n",
    "y_train = train_data[:, 0]\n",
    "\n",
    "x_test = test_data[:, 1:] / 255\n",
    "y_test = test_data[:, 0]\n",
    "\n",
    "x_train, x_validate, y_train, y_validate = train_test_split(x_train, y_train, test_size=0.2, random_state=228)"
   ],
   "id": "5f89947efb7f631b",
   "outputs": [],
   "execution_count": 3
  },
  {
   "metadata": {},
   "cell_type": "markdown",
   "source": "Настройки модели",
   "id": "68013bf3293494a"
  },
  {
   "metadata": {
    "ExecuteTime": {
     "end_time": "2024-05-12T22:15:07.755364Z",
     "start_time": "2024-05-12T22:14:19.652331Z"
    }
   },
   "cell_type": "code",
   "source": [
    "\n",
    "img_rows = 28\n",
    "img_cols = 28\n",
    "\n",
    "filters = 32\n",
    "kernel_size = 3\n",
    "activation = 'relu'\n",
    "pool_size = 2\n",
    "dropout = 0.2\n",
    "dense = 32\n",
    "dense_activation = 'relu'\n",
    "output = 10\n",
    "output_activation = 'softmax'\n",
    "\n",
    "number_epochs = 17\n",
    "verbose = 1\n",
    "batch_size = 512\n",
    "loss = 'sparse_categorical_crossentropy'\n",
    "metrics = ['accuracy']\n",
    "    \n",
    "write_graph = True\n",
    "histogram_freq = 1\n",
    "write_images = True\n",
    "\n",
    "\n",
    "x_train = x_train.reshape(x_train.shape[0], img_rows, img_cols, 1)\n",
    "x_test = x_test.reshape(x_test.shape[0], img_rows, img_cols, 1)\n",
    "x_validate = x_validate.reshape(x_validate.shape[0], img_rows, img_cols, 1)\n",
    "\n",
    "logger.info(f\"Размер обучающей выборки: {x_train.shape}\")\n",
    "logger.info(f\"Размер тестовой выборки: {x_test.shape}\")\n",
    "logger.info(f\"Размер валидационной выборки: {x_validate.shape}\")\n",
    "\n",
    "\n",
    "model_layers = (\n",
    "    layers.Input(shape=(img_rows, img_cols, 1)),\n",
    "    layers.Conv2D(\n",
    "        filters=filters,\n",
    "        kernel_size=kernel_size, \n",
    "        activation=activation,\n",
    "    ),\n",
    "    layers.MaxPooling2D(pool_size=pool_size),\n",
    "    layers.Dropout(dropout),\n",
    "    layers.Flatten(),\n",
    "    layers.Dense(dense, activation=dense_activation),\n",
    "    layers.Dense(output, activation=output_activation)\n",
    ")\n",
    "\n",
    "model = keras.Sequential(model_layers)\n",
    "\n",
    "tensorboard = callbacks.TensorBoard(\n",
    "    write_graph=write_graph,\n",
    "    histogram_freq=histogram_freq,\n",
    "    write_images=write_images,\n",
    ")\n",
    "\n",
    "model.compile(\n",
    "    loss=loss,\n",
    "    metrics=metrics,\n",
    ")\n",
    "\n",
    "model.fit(\n",
    "    x_train, \n",
    "    y_train, \n",
    "    batch_size=batch_size,\n",
    "    epochs=number_epochs, \n",
    "    verbose=verbose,\n",
    "    validation_data=(x_validate, y_validate),\n",
    "    callbacks=[tensorboard]\n",
    ")\n",
    "\n",
    "_, accuracy, *_ = model.evaluate(x_test, y_test, verbose=verbose)\n",
    "\n",
    "if accuracy > 0.8:\n",
    "    logger.success(f\"Точность модели: {accuracy}\")\n",
    "    \n",
    "    y_response = model(x_test)\n",
    "    \n",
    "    result = pd.DataFrame(np.argmax(y_response, axis=1), columns=[\"Category\"])\n",
    "    result[\"Id\"] = result.index\n",
    "\n",
    "    result.to_csv(\"data/result_submission.csv\", index=False)\n",
    "else:\n",
    "    logger.warning(f\"Точность модели: {accuracy} < 0.8\")"
   ],
   "id": "f8595767ea5a4e52",
   "outputs": [
    {
     "name": "stderr",
     "output_type": "stream",
     "text": [
      "\u001B[32m2024-05-13 01:14:19.656\u001B[0m | \u001B[1mINFO    \u001B[0m | \u001B[36m__main__\u001B[0m:\u001B[36m<module>\u001B[0m:\u001B[36m29\u001B[0m - \u001B[1mРазмер обучающей выборки: (48000, 28, 28, 1)\u001B[0m\n",
      "\u001B[32m2024-05-13 01:14:19.657\u001B[0m | \u001B[1mINFO    \u001B[0m | \u001B[36m__main__\u001B[0m:\u001B[36m<module>\u001B[0m:\u001B[36m30\u001B[0m - \u001B[1mРазмер тестовой выборки: (10000, 28, 28, 1)\u001B[0m\n",
      "\u001B[32m2024-05-13 01:14:19.658\u001B[0m | \u001B[1mINFO    \u001B[0m | \u001B[36m__main__\u001B[0m:\u001B[36m<module>\u001B[0m:\u001B[36m31\u001B[0m - \u001B[1mРазмер валидационной выборки: (12000, 28, 28, 1)\u001B[0m\n"
     ]
    },
    {
     "name": "stdout",
     "output_type": "stream",
     "text": [
      "Epoch 1/17\n",
      "\u001B[1m94/94\u001B[0m \u001B[32m━━━━━━━━━━━━━━━━━━━━\u001B[0m\u001B[37m\u001B[0m \u001B[1m3s\u001B[0m 28ms/step - accuracy: 0.5782 - loss: 1.2455 - val_accuracy: 0.8054 - val_loss: 0.5635\n",
      "Epoch 2/17\n",
      "\u001B[1m94/94\u001B[0m \u001B[32m━━━━━━━━━━━━━━━━━━━━\u001B[0m\u001B[37m\u001B[0m \u001B[1m3s\u001B[0m 28ms/step - accuracy: 0.7997 - loss: 0.5635 - val_accuracy: 0.8019 - val_loss: 0.5182\n",
      "Epoch 3/17\n",
      "\u001B[1m94/94\u001B[0m \u001B[32m━━━━━━━━━━━━━━━━━━━━\u001B[0m\u001B[37m\u001B[0m \u001B[1m3s\u001B[0m 28ms/step - accuracy: 0.8296 - loss: 0.4696 - val_accuracy: 0.8461 - val_loss: 0.4319\n",
      "Epoch 4/17\n",
      "\u001B[1m94/94\u001B[0m \u001B[32m━━━━━━━━━━━━━━━━━━━━\u001B[0m\u001B[37m\u001B[0m \u001B[1m3s\u001B[0m 29ms/step - accuracy: 0.8510 - loss: 0.4163 - val_accuracy: 0.8465 - val_loss: 0.4148\n",
      "Epoch 5/17\n",
      "\u001B[1m94/94\u001B[0m \u001B[32m━━━━━━━━━━━━━━━━━━━━\u001B[0m\u001B[37m\u001B[0m \u001B[1m3s\u001B[0m 28ms/step - accuracy: 0.8668 - loss: 0.3793 - val_accuracy: 0.8630 - val_loss: 0.3806\n",
      "Epoch 6/17\n",
      "\u001B[1m94/94\u001B[0m \u001B[32m━━━━━━━━━━━━━━━━━━━━\u001B[0m\u001B[37m\u001B[0m \u001B[1m3s\u001B[0m 28ms/step - accuracy: 0.8716 - loss: 0.3586 - val_accuracy: 0.8807 - val_loss: 0.3419\n",
      "Epoch 7/17\n",
      "\u001B[1m94/94\u001B[0m \u001B[32m━━━━━━━━━━━━━━━━━━━━\u001B[0m\u001B[37m\u001B[0m \u001B[1m3s\u001B[0m 27ms/step - accuracy: 0.8810 - loss: 0.3371 - val_accuracy: 0.8671 - val_loss: 0.3636\n",
      "Epoch 8/17\n",
      "\u001B[1m94/94\u001B[0m \u001B[32m━━━━━━━━━━━━━━━━━━━━\u001B[0m\u001B[37m\u001B[0m \u001B[1m3s\u001B[0m 27ms/step - accuracy: 0.8860 - loss: 0.3192 - val_accuracy: 0.8824 - val_loss: 0.3228\n",
      "Epoch 9/17\n",
      "\u001B[1m94/94\u001B[0m \u001B[32m━━━━━━━━━━━━━━━━━━━━\u001B[0m\u001B[37m\u001B[0m \u001B[1m3s\u001B[0m 27ms/step - accuracy: 0.8935 - loss: 0.2989 - val_accuracy: 0.8799 - val_loss: 0.3319\n",
      "Epoch 10/17\n",
      "\u001B[1m94/94\u001B[0m \u001B[32m━━━━━━━━━━━━━━━━━━━━\u001B[0m\u001B[37m\u001B[0m \u001B[1m3s\u001B[0m 32ms/step - accuracy: 0.8915 - loss: 0.3017 - val_accuracy: 0.8892 - val_loss: 0.3108\n",
      "Epoch 11/17\n",
      "\u001B[1m94/94\u001B[0m \u001B[32m━━━━━━━━━━━━━━━━━━━━\u001B[0m\u001B[37m\u001B[0m \u001B[1m3s\u001B[0m 31ms/step - accuracy: 0.9013 - loss: 0.2790 - val_accuracy: 0.8909 - val_loss: 0.3085\n",
      "Epoch 12/17\n",
      "\u001B[1m94/94\u001B[0m \u001B[32m━━━━━━━━━━━━━━━━━━━━\u001B[0m\u001B[37m\u001B[0m \u001B[1m3s\u001B[0m 31ms/step - accuracy: 0.9021 - loss: 0.2737 - val_accuracy: 0.8974 - val_loss: 0.2902\n",
      "Epoch 13/17\n",
      "\u001B[1m94/94\u001B[0m \u001B[32m━━━━━━━━━━━━━━━━━━━━\u001B[0m\u001B[37m\u001B[0m \u001B[1m3s\u001B[0m 29ms/step - accuracy: 0.9042 - loss: 0.2678 - val_accuracy: 0.8947 - val_loss: 0.2989\n",
      "Epoch 14/17\n",
      "\u001B[1m94/94\u001B[0m \u001B[32m━━━━━━━━━━━━━━━━━━━━\u001B[0m\u001B[37m\u001B[0m \u001B[1m3s\u001B[0m 28ms/step - accuracy: 0.9082 - loss: 0.2603 - val_accuracy: 0.8976 - val_loss: 0.2864\n",
      "Epoch 15/17\n",
      "\u001B[1m94/94\u001B[0m \u001B[32m━━━━━━━━━━━━━━━━━━━━\u001B[0m\u001B[37m\u001B[0m \u001B[1m3s\u001B[0m 28ms/step - accuracy: 0.9102 - loss: 0.2487 - val_accuracy: 0.8790 - val_loss: 0.3299\n",
      "Epoch 16/17\n",
      "\u001B[1m94/94\u001B[0m \u001B[32m━━━━━━━━━━━━━━━━━━━━\u001B[0m\u001B[37m\u001B[0m \u001B[1m3s\u001B[0m 28ms/step - accuracy: 0.9116 - loss: 0.2459 - val_accuracy: 0.9043 - val_loss: 0.2703\n",
      "Epoch 17/17\n",
      "\u001B[1m94/94\u001B[0m \u001B[32m━━━━━━━━━━━━━━━━━━━━\u001B[0m\u001B[37m\u001B[0m \u001B[1m3s\u001B[0m 31ms/step - accuracy: 0.9140 - loss: 0.2397 - val_accuracy: 0.9043 - val_loss: 0.2741\n",
      "\u001B[1m313/313\u001B[0m \u001B[32m━━━━━━━━━━━━━━━━━━━━\u001B[0m\u001B[37m\u001B[0m \u001B[1m0s\u001B[0m 1ms/step - accuracy: 0.9054 - loss: 0.2624\n"
     ]
    },
    {
     "name": "stderr",
     "output_type": "stream",
     "text": [
      "\u001B[32m2024-05-13 01:15:06.868\u001B[0m | \u001B[32m\u001B[1mSUCCESS \u001B[0m | \u001B[36m__main__\u001B[0m:\u001B[36m<module>\u001B[0m:\u001B[36m74\u001B[0m - \u001B[32m\u001B[1mТочность модели: 0.9100000262260437\u001B[0m\n"
     ]
    }
   ],
   "execution_count": 4
  },
  {
   "metadata": {},
   "cell_type": "code",
   "source": "",
   "id": "518357585b02f540",
   "outputs": [],
   "execution_count": null
  }
 ],
 "metadata": {
  "kernelspec": {
   "display_name": "Python 3",
   "language": "python",
   "name": "python3"
  },
  "language_info": {
   "codemirror_mode": {
    "name": "ipython",
    "version": 2
   },
   "file_extension": ".py",
   "mimetype": "text/x-python",
   "name": "python",
   "nbconvert_exporter": "python",
   "pygments_lexer": "ipython2",
   "version": "2.7.6"
  }
 },
 "nbformat": 4,
 "nbformat_minor": 5
}
